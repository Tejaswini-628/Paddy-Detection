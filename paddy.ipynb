{
 "cells": [
  {
   "cell_type": "code",
   "execution_count": 1,
   "id": "548dac3c",
   "metadata": {
    "_cell_guid": "b1076dfc-b9ad-4769-8c92-a6c4dae69d19",
    "_uuid": "8f2839f25d086af736a60e9eeb907d3b93b6e0e5",
    "execution": {
     "iopub.execute_input": "2022-08-07T06:34:49.812272Z",
     "iopub.status.busy": "2022-08-07T06:34:49.811637Z",
     "iopub.status.idle": "2022-08-07T06:34:56.866334Z",
     "shell.execute_reply": "2022-08-07T06:34:56.864784Z"
    },
    "papermill": {
     "duration": 7.069575,
     "end_time": "2022-08-07T06:34:56.869857",
     "exception": false,
     "start_time": "2022-08-07T06:34:49.800282",
     "status": "completed"
    },
    "tags": []
   },
   "outputs": [],
   "source": [
    "import numpy as np\n",
    "import pandas as pd\n",
    "import tensorflow as tf\n",
    "from tensorflow.keras import models,layers"
   ]
  },
  {
   "cell_type": "code",
   "execution_count": 2,
   "id": "22b695e8",
   "metadata": {
    "execution": {
     "iopub.execute_input": "2022-08-07T06:34:56.880819Z",
     "iopub.status.busy": "2022-08-07T06:34:56.880194Z",
     "iopub.status.idle": "2022-08-07T06:34:56.917857Z",
     "shell.execute_reply": "2022-08-07T06:34:56.916549Z"
    },
    "papermill": {
     "duration": 0.045778,
     "end_time": "2022-08-07T06:34:56.920549",
     "exception": false,
     "start_time": "2022-08-07T06:34:56.874771",
     "status": "completed"
    },
    "tags": []
   },
   "outputs": [],
   "source": [
    "train = pd.read_csv('../input/paddy-disease-classification/train.csv')\n",
    "sub = pd.read_csv('../input/paddy-disease-classification/sample_submission.csv')"
   ]
  },
  {
   "cell_type": "code",
   "execution_count": 3,
   "id": "bba55842",
   "metadata": {
    "execution": {
     "iopub.execute_input": "2022-08-07T06:34:56.931655Z",
     "iopub.status.busy": "2022-08-07T06:34:56.930172Z",
     "iopub.status.idle": "2022-08-07T06:34:56.947842Z",
     "shell.execute_reply": "2022-08-07T06:34:56.946354Z"
    },
    "papermill": {
     "duration": 0.025954,
     "end_time": "2022-08-07T06:34:56.950742",
     "exception": false,
     "start_time": "2022-08-07T06:34:56.924788",
     "status": "completed"
    },
    "tags": []
   },
   "outputs": [
    {
     "data": {
      "text/plain": [
       "['bacterial_leaf_blight',\n",
       " 'bacterial_leaf_streak',\n",
       " 'bacterial_panicle_blight',\n",
       " 'blast',\n",
       " 'brown_spot',\n",
       " 'dead_heart',\n",
       " 'downy_mildew',\n",
       " 'hispa',\n",
       " 'normal',\n",
       " 'tungro']"
      ]
     },
     "execution_count": 3,
     "metadata": {},
     "output_type": "execute_result"
    }
   ],
   "source": [
    "diseases_types = sorted(list(set(train['label'])))\n",
    "diseases_types"
   ]
  },
  {
   "cell_type": "code",
   "execution_count": 4,
   "id": "a5eb99ea",
   "metadata": {
    "execution": {
     "iopub.execute_input": "2022-08-07T06:34:56.961450Z",
     "iopub.status.busy": "2022-08-07T06:34:56.960689Z",
     "iopub.status.idle": "2022-08-07T06:35:04.845715Z",
     "shell.execute_reply": "2022-08-07T06:35:04.843741Z"
    },
    "papermill": {
     "duration": 7.893108,
     "end_time": "2022-08-07T06:35:04.848325",
     "exception": false,
     "start_time": "2022-08-07T06:34:56.955217",
     "status": "completed"
    },
    "tags": []
   },
   "outputs": [
    {
     "name": "stdout",
     "output_type": "stream",
     "text": [
      "Found 10407 files belonging to 10 classes.\n",
      "Using 8326 files for training.\n"
     ]
    },
    {
     "name": "stderr",
     "output_type": "stream",
     "text": [
      "2022-08-07 06:34:58.984840: I tensorflow/stream_executor/cuda/cuda_gpu_executor.cc:937] successful NUMA node read from SysFS had negative value (-1), but there must be at least one NUMA node, so returning NUMA node zero\n",
      "2022-08-07 06:34:59.159774: I tensorflow/stream_executor/cuda/cuda_gpu_executor.cc:937] successful NUMA node read from SysFS had negative value (-1), but there must be at least one NUMA node, so returning NUMA node zero\n",
      "2022-08-07 06:34:59.163976: I tensorflow/stream_executor/cuda/cuda_gpu_executor.cc:937] successful NUMA node read from SysFS had negative value (-1), but there must be at least one NUMA node, so returning NUMA node zero\n",
      "2022-08-07 06:34:59.179000: I tensorflow/core/platform/cpu_feature_guard.cc:142] This TensorFlow binary is optimized with oneAPI Deep Neural Network Library (oneDNN) to use the following CPU instructions in performance-critical operations:  AVX2 FMA\n",
      "To enable them in other operations, rebuild TensorFlow with the appropriate compiler flags.\n",
      "2022-08-07 06:34:59.179440: I tensorflow/stream_executor/cuda/cuda_gpu_executor.cc:937] successful NUMA node read from SysFS had negative value (-1), but there must be at least one NUMA node, so returning NUMA node zero\n",
      "2022-08-07 06:34:59.183593: I tensorflow/stream_executor/cuda/cuda_gpu_executor.cc:937] successful NUMA node read from SysFS had negative value (-1), but there must be at least one NUMA node, so returning NUMA node zero\n",
      "2022-08-07 06:34:59.187718: I tensorflow/stream_executor/cuda/cuda_gpu_executor.cc:937] successful NUMA node read from SysFS had negative value (-1), but there must be at least one NUMA node, so returning NUMA node zero\n",
      "2022-08-07 06:35:02.805062: I tensorflow/stream_executor/cuda/cuda_gpu_executor.cc:937] successful NUMA node read from SysFS had negative value (-1), but there must be at least one NUMA node, so returning NUMA node zero\n",
      "2022-08-07 06:35:02.809622: I tensorflow/stream_executor/cuda/cuda_gpu_executor.cc:937] successful NUMA node read from SysFS had negative value (-1), but there must be at least one NUMA node, so returning NUMA node zero\n",
      "2022-08-07 06:35:02.814077: I tensorflow/stream_executor/cuda/cuda_gpu_executor.cc:937] successful NUMA node read from SysFS had negative value (-1), but there must be at least one NUMA node, so returning NUMA node zero\n",
      "2022-08-07 06:35:02.818167: I tensorflow/core/common_runtime/gpu/gpu_device.cc:1510] Created device /job:localhost/replica:0/task:0/device:GPU:0 with 15403 MB memory:  -> device: 0, name: Tesla P100-PCIE-16GB, pci bus id: 0000:00:04.0, compute capability: 6.0\n"
     ]
    },
    {
     "name": "stdout",
     "output_type": "stream",
     "text": [
      "Found 10407 files belonging to 10 classes.\n",
      "Using 2081 files for validation.\n"
     ]
    }
   ],
   "source": [
    "train_data= tf.keras.preprocessing.image_dataset_from_directory(\"/kaggle/input/paddy-disease-classification/train_images/\",\n",
    "                                                        labels='inferred',\n",
    "                                                        label_mode='categorical',\n",
    "                                                        class_names=diseases_types,\n",
    "                                                        color_mode='rgb',\n",
    "                                                        image_size=(680,480),\n",
    "                                                        shuffle=True,\n",
    "                                                        validation_split=0.2,\n",
    "                                                        subset='training',\n",
    "                                                        seed=42)\n",
    "\n",
    "val_data= tf.keras.preprocessing.image_dataset_from_directory(\"/kaggle/input/paddy-disease-classification/train_images/\",\n",
    "                                                        labels='inferred',\n",
    "                                                        label_mode='categorical',\n",
    "                                                        class_names=diseases_types,   \n",
    "                                                        color_mode='rgb',\n",
    "                                                        image_size=(680,480),\n",
    "                                                        shuffle=True,\n",
    "                                                        validation_split=0.2,\n",
    "                                                        subset='validation',\n",
    "                                                        seed=42)"
   ]
  },
  {
   "cell_type": "code",
   "execution_count": 5,
   "id": "edbbaf15",
   "metadata": {
    "execution": {
     "iopub.execute_input": "2022-08-07T06:35:04.860686Z",
     "iopub.status.busy": "2022-08-07T06:35:04.859212Z",
     "iopub.status.idle": "2022-08-07T06:35:04.869865Z",
     "shell.execute_reply": "2022-08-07T06:35:04.868504Z"
    },
    "papermill": {
     "duration": 0.019112,
     "end_time": "2022-08-07T06:35:04.872596",
     "exception": false,
     "start_time": "2022-08-07T06:35:04.853484",
     "status": "completed"
    },
    "tags": []
   },
   "outputs": [
    {
     "data": {
      "text/plain": [
       "<BatchDataset shapes: ((None, 680, 480, 3), (None, 10)), types: (tf.float32, tf.float32)>"
      ]
     },
     "execution_count": 5,
     "metadata": {},
     "output_type": "execute_result"
    }
   ],
   "source": [
    "train_data"
   ]
  },
  {
   "cell_type": "code",
   "execution_count": 6,
   "id": "327d7733",
   "metadata": {
    "execution": {
     "iopub.execute_input": "2022-08-07T06:35:04.883574Z",
     "iopub.status.busy": "2022-08-07T06:35:04.883251Z",
     "iopub.status.idle": "2022-08-07T06:35:10.895760Z",
     "shell.execute_reply": "2022-08-07T06:35:10.894335Z"
    },
    "papermill": {
     "duration": 6.021388,
     "end_time": "2022-08-07T06:35:10.898768",
     "exception": false,
     "start_time": "2022-08-07T06:35:04.877380",
     "status": "completed"
    },
    "tags": []
   },
   "outputs": [
    {
     "name": "stdout",
     "output_type": "stream",
     "text": [
      "Downloading data from https://storage.googleapis.com/tensorflow/keras-applications/resnet/resnet50_weights_tf_dim_ordering_tf_kernels_notop.h5\n",
      "94773248/94765736 [==============================] - 3s 0us/step\n",
      "94781440/94765736 [==============================] - 3s 0us/step\n"
     ]
    }
   ],
   "source": [
    "resnet_model=models.Sequential()\n",
    "\n",
    "pretrained_model=tf.keras.applications.ResNet50(include_top=False,input_shape=(680,480,3),pooling='avg',classes=10,weights='imagenet')\n",
    "    \n",
    "for layer in pretrained_model.layers:\n",
    "    layer.trainable=False\n",
    "    \n",
    "    \n",
    "resnet_model.add(pretrained_model)\n",
    "resnet_model.add(layers.Flatten())\n",
    "resnet_model.add(layers.Dense(512,activation='relu'))\n",
    "resnet_model.add(layers.Dense(99,activation='relu'))\n",
    "resnet_model.add(layers.Dense(10,activation='softmax'))"
   ]
  },
  {
   "cell_type": "code",
   "execution_count": 7,
   "id": "6ae9a213",
   "metadata": {
    "execution": {
     "iopub.execute_input": "2022-08-07T06:35:10.914206Z",
     "iopub.status.busy": "2022-08-07T06:35:10.913858Z",
     "iopub.status.idle": "2022-08-07T06:35:12.388048Z",
     "shell.execute_reply": "2022-08-07T06:35:12.386444Z"
    },
    "papermill": {
     "duration": 1.485104,
     "end_time": "2022-08-07T06:35:12.390937",
     "exception": false,
     "start_time": "2022-08-07T06:35:10.905833",
     "status": "completed"
    },
    "tags": []
   },
   "outputs": [
    {
     "data": {
      "image/png": "[encoded data removed]",
      "text/plain": [
       "<IPython.core.display.Image object>"
      ]
     },
     "execution_count": 7,
     "metadata": {},
     "output_type": "execute_result"
    }
   ],
   "source": [
    "tf.keras.utils.plot_model(resnet_model)"
   ]
  },
  {
   "cell_type": "code",
   "execution_count": 8,
   "id": "e2152322",
   "metadata": {
    "execution": {
     "iopub.execute_input": "2022-08-07T06:35:12.407152Z",
     "iopub.status.busy": "2022-08-07T06:35:12.405248Z",
     "iopub.status.idle": "2022-08-07T06:35:12.414690Z",
     "shell.execute_reply": "2022-08-07T06:35:12.413266Z"
    },
    "papermill": {
     "duration": 0.020384,
     "end_time": "2022-08-07T06:35:12.417562",
     "exception": false,
     "start_time": "2022-08-07T06:35:12.397178",
     "status": "completed"
    },
    "tags": []
   },
   "outputs": [
    {
     "data": {
      "text/plain": [
       "<BatchDataset shapes: ((None, 680, 480, 3), (None, 10)), types: (tf.float32, tf.float32)>"
      ]
     },
     "execution_count": 8,
     "metadata": {},
     "output_type": "execute_result"
    }
   ],
   "source": [
    "val_data"
   ]
  },
  {
   "cell_type": "code",
   "execution_count": 9,
   "id": "e0639575",
   "metadata": {
    "execution": {
     "iopub.execute_input": "2022-08-07T06:35:12.431087Z",
     "iopub.status.busy": "2022-08-07T06:35:12.430788Z",
     "iopub.status.idle": "2022-08-07T07:48:41.224094Z",
     "shell.execute_reply": "2022-08-07T07:48:41.222733Z"
    },
    "papermill": {
     "duration": 4409.182846,
     "end_time": "2022-08-07T07:48:41.606426",
     "exception": false,
     "start_time": "2022-08-07T06:35:12.423580",
     "status": "completed"
    },
    "tags": []
   },
   "outputs": [
    {
     "name": "stdout",
     "output_type": "stream",
     "text": [
      "Epoch 1/25\n"
     ]
    },
    {
     "name": "stderr",
     "output_type": "stream",
     "text": [
      "2022-08-07 06:35:15.552775: I tensorflow/compiler/mlir/mlir_graph_optimization_pass.cc:185] None of the MLIR Optimization Passes are enabled (registered 2)\n",
      "2022-08-07 06:35:20.237810: I tensorflow/stream_executor/cuda/cuda_dnn.cc:369] Loaded cuDNN version 8005\n"
     ]
    },
    {
     "name": "stdout",
     "output_type": "stream",
     "text": [
      "261/261 [==============================] - 174s 611ms/step - loss: 1.4965 - accuracy: 0.5002 - val_loss: 1.1314 - val_accuracy: 0.6382\n",
      "Epoch 2/25\n",
      "261/261 [==============================] - 160s 607ms/step - loss: 1.0146 - accuracy: 0.6697 - val_loss: 0.9144 - val_accuracy: 0.6910\n",
      "Epoch 3/25\n",
      "261/261 [==============================] - 165s 627ms/step - loss: 0.7707 - accuracy: 0.7491 - val_loss: 0.8823 - val_accuracy: 0.7074\n",
      "Epoch 4/25\n",
      "261/261 [==============================] - 164s 622ms/step - loss: 0.6179 - accuracy: 0.7992 - val_loss: 0.6563 - val_accuracy: 0.7679\n",
      "Epoch 5/25\n",
      "261/261 [==============================] - 162s 617ms/step - loss: 0.4922 - accuracy: 0.8407 - val_loss: 0.5179 - val_accuracy: 0.8241\n",
      "Epoch 6/25\n",
      "261/261 [==============================] - 161s 611ms/step - loss: 0.4259 - accuracy: 0.8602 - val_loss: 0.4834 - val_accuracy: 0.8400\n",
      "Epoch 7/25\n",
      "261/261 [==============================] - 171s 650ms/step - loss: 0.3633 - accuracy: 0.8812 - val_loss: 0.5001 - val_accuracy: 0.8385\n",
      "Epoch 8/25\n",
      "261/261 [==============================] - 161s 609ms/step - loss: 0.3181 - accuracy: 0.8960 - val_loss: 0.3625 - val_accuracy: 0.8760\n",
      "Epoch 9/25\n",
      "261/261 [==============================] - 161s 611ms/step - loss: 0.2480 - accuracy: 0.9184 - val_loss: 0.4228 - val_accuracy: 0.8630\n",
      "Epoch 10/25\n",
      "261/261 [==============================] - 163s 620ms/step - loss: 0.2165 - accuracy: 0.9272 - val_loss: 0.3645 - val_accuracy: 0.8847\n",
      "Epoch 11/25\n",
      "261/261 [==============================] - 164s 623ms/step - loss: 0.2322 - accuracy: 0.9215 - val_loss: 0.4022 - val_accuracy: 0.8741\n",
      "Epoch 12/25\n",
      "261/261 [==============================] - 166s 629ms/step - loss: 0.1761 - accuracy: 0.9417 - val_loss: 0.3849 - val_accuracy: 0.8755\n",
      "Epoch 13/25\n",
      "261/261 [==============================] - 165s 624ms/step - loss: 0.1688 - accuracy: 0.9444 - val_loss: 0.3400 - val_accuracy: 0.8957\n",
      "Epoch 14/25\n",
      "261/261 [==============================] - 163s 619ms/step - loss: 0.1318 - accuracy: 0.9582 - val_loss: 0.3283 - val_accuracy: 0.8986\n",
      "Epoch 15/25\n",
      "261/261 [==============================] - 166s 629ms/step - loss: 0.1250 - accuracy: 0.9598 - val_loss: 0.4764 - val_accuracy: 0.8679\n",
      "Epoch 16/25\n",
      "261/261 [==============================] - 165s 625ms/step - loss: 0.1244 - accuracy: 0.9600 - val_loss: 0.3284 - val_accuracy: 0.9025\n",
      "Epoch 17/25\n",
      "261/261 [==============================] - 163s 619ms/step - loss: 0.1580 - accuracy: 0.9472 - val_loss: 0.2787 - val_accuracy: 0.9183\n",
      "Epoch 18/25\n",
      "261/261 [==============================] - 162s 615ms/step - loss: 0.1181 - accuracy: 0.9606 - val_loss: 0.3344 - val_accuracy: 0.9020\n",
      "Epoch 19/25\n",
      "261/261 [==============================] - 161s 613ms/step - loss: 0.1090 - accuracy: 0.9628 - val_loss: 0.4023 - val_accuracy: 0.8861\n",
      "Epoch 20/25\n",
      "261/261 [==============================] - 164s 621ms/step - loss: 0.0952 - accuracy: 0.9665 - val_loss: 0.4124 - val_accuracy: 0.8823\n",
      "Epoch 21/25\n",
      "261/261 [==============================] - 166s 627ms/step - loss: 0.1075 - accuracy: 0.9636 - val_loss: 0.3313 - val_accuracy: 0.9044\n",
      "Epoch 22/25\n",
      "261/261 [==============================] - 163s 618ms/step - loss: 0.0748 - accuracy: 0.9744 - val_loss: 0.4423 - val_accuracy: 0.8746\n",
      "Epoch 23/25\n",
      "261/261 [==============================] - 164s 622ms/step - loss: 0.1038 - accuracy: 0.9625 - val_loss: 0.3161 - val_accuracy: 0.9140\n",
      "Epoch 24/25\n",
      "261/261 [==============================] - 164s 621ms/step - loss: 0.0608 - accuracy: 0.9808 - val_loss: 0.4032 - val_accuracy: 0.8938\n",
      "Epoch 25/25\n",
      "261/261 [==============================] - 162s 616ms/step - loss: 0.0742 - accuracy: 0.9739 - val_loss: 0.2908 - val_accuracy: 0.9198\n"
     ]
    },
    {
     "data": {
      "text/plain": [
       "<keras.callbacks.History at 0x7f61800f9510>"
      ]
     },
     "execution_count": 9,
     "metadata": {},
     "output_type": "execute_result"
    }
   ],
   "source": [
    "resnet_model.compile(optimizer='adam',loss='categorical_crossentropy',metrics=['accuracy'])\n",
    "resnet_model.fit(train_data,validation_data=val_data,epochs=25)"
   ]
  },
  {
   "cell_type": "code",
   "execution_count": 10,
   "id": "08d4990e",
   "metadata": {
    "execution": {
     "iopub.execute_input": "2022-08-07T07:48:42.634732Z",
     "iopub.status.busy": "2022-08-07T07:48:42.633410Z",
     "iopub.status.idle": "2022-08-07T07:48:43.901274Z",
     "shell.execute_reply": "2022-08-07T07:48:43.898642Z"
    },
    "papermill": {
     "duration": 1.889762,
     "end_time": "2022-08-07T07:48:43.904165",
     "exception": false,
     "start_time": "2022-08-07T07:48:42.014403",
     "status": "completed"
    },
    "tags": []
   },
   "outputs": [
    {
     "name": "stdout",
     "output_type": "stream",
     "text": [
      "Found 3469 files belonging to 1 classes.\n"
     ]
    }
   ],
   "source": [
    "test_data=tf.keras.utils.image_dataset_from_directory(\"/kaggle/input/paddy-disease-classification/test_images/\",\n",
    "                                                        labels=None,\n",
    "                                                        label_mode=None,\n",
    "                                                        color_mode='rgb',\n",
    "                                                        image_size=(680,480),\n",
    "                                                        shuffle=False)"
   ]
  },
  {
   "cell_type": "code",
   "execution_count": 11,
   "id": "b02b63cb",
   "metadata": {
    "execution": {
     "iopub.execute_input": "2022-08-07T07:48:44.761195Z",
     "iopub.status.busy": "2022-08-07T07:48:44.760178Z",
     "iopub.status.idle": "2022-08-07T07:49:23.775767Z",
     "shell.execute_reply": "2022-08-07T07:49:23.774446Z"
    },
    "papermill": {
     "duration": 39.830341,
     "end_time": "2022-08-07T07:49:24.178546",
     "exception": false,
     "start_time": "2022-08-07T07:48:44.348205",
     "status": "completed"
    },
    "tags": []
   },
   "outputs": [
    {
     "data": {
      "text/plain": [
       "<tf.Tensor: shape=(3469,), dtype=int64, numpy=array([7, 8, 3, ..., 8, 1, 5])>"
      ]
     },
     "execution_count": 11,
     "metadata": {},
     "output_type": "execute_result"
    }
   ],
   "source": [
    "predict=tf.argmax(resnet_model.predict(test_data),axis=-1)\n",
    "predict"
   ]
  },
  {
   "cell_type": "code",
   "execution_count": 12,
   "id": "a804e0dc",
   "metadata": {
    "execution": {
     "iopub.execute_input": "2022-08-07T07:49:25.048101Z",
     "iopub.status.busy": "2022-08-07T07:49:25.047676Z",
     "iopub.status.idle": "2022-08-07T07:49:26.885460Z",
     "shell.execute_reply": "2022-08-07T07:49:26.883808Z"
    },
    "papermill": {
     "duration": 2.252028,
     "end_time": "2022-08-07T07:49:26.889272",
     "exception": false,
     "start_time": "2022-08-07T07:49:24.637244",
     "status": "completed"
    },
    "tags": []
   },
   "outputs": [],
   "source": [
    "predictions=[]\n",
    "for i in predict:\n",
    "    predictions.append(diseases_types[i])"
   ]
  },
  {
   "cell_type": "code",
   "execution_count": 13,
   "id": "916e9368",
   "metadata": {
    "execution": {
     "iopub.execute_input": "2022-08-07T07:49:27.798847Z",
     "iopub.status.busy": "2022-08-07T07:49:27.798225Z",
     "iopub.status.idle": "2022-08-07T07:49:27.823901Z",
     "shell.execute_reply": "2022-08-07T07:49:27.822188Z"
    },
    "papermill": {
     "duration": 0.43344,
     "end_time": "2022-08-07T07:49:27.827340",
     "exception": false,
     "start_time": "2022-08-07T07:49:27.393900",
     "status": "completed"
    },
    "tags": []
   },
   "outputs": [
    {
     "data": {
      "text/html": [
       "<div>\n",
       "<style scoped>\n",
       "    .dataframe tbody tr th:only-of-type {\n",
       "        vertical-align: middle;\n",
       "    }\n",
       "\n",
       "    .dataframe tbody tr th {\n",
       "        vertical-align: top;\n",
       "    }\n",
       "\n",
       "    .dataframe thead th {\n",
       "        text-align: right;\n",
       "    }\n",
       "</style>\n",
       "<table border=\"1\" class=\"dataframe\">\n",
       "  <thead>\n",
       "    <tr style=\"text-align: right;\">\n",
       "      <th></th>\n",
       "      <th>image_id</th>\n",
       "    </tr>\n",
       "  </thead>\n",
       "  <tbody>\n",
       "    <tr>\n",
       "      <th>0</th>\n",
       "      <td>200001.jpg</td>\n",
       "    </tr>\n",
       "    <tr>\n",
       "      <th>1</th>\n",
       "      <td>200002.jpg</td>\n",
       "    </tr>\n",
       "    <tr>\n",
       "      <th>2</th>\n",
       "      <td>200003.jpg</td>\n",
       "    </tr>\n",
       "    <tr>\n",
       "      <th>3</th>\n",
       "      <td>200004.jpg</td>\n",
       "    </tr>\n",
       "    <tr>\n",
       "      <th>4</th>\n",
       "      <td>200005.jpg</td>\n",
       "    </tr>\n",
       "    <tr>\n",
       "      <th>...</th>\n",
       "      <td>...</td>\n",
       "    </tr>\n",
       "    <tr>\n",
       "      <th>3464</th>\n",
       "      <td>203465.jpg</td>\n",
       "    </tr>\n",
       "    <tr>\n",
       "      <th>3465</th>\n",
       "      <td>203466.jpg</td>\n",
       "    </tr>\n",
       "    <tr>\n",
       "      <th>3466</th>\n",
       "      <td>203467.jpg</td>\n",
       "    </tr>\n",
       "    <tr>\n",
       "      <th>3467</th>\n",
       "      <td>203468.jpg</td>\n",
       "    </tr>\n",
       "    <tr>\n",
       "      <th>3468</th>\n",
       "      <td>203469.jpg</td>\n",
       "    </tr>\n",
       "  </tbody>\n",
       "</table>\n",
       "<p>3469 rows × 1 columns</p>\n",
       "</div>"
      ],
      "text/plain": [
       "        image_id\n",
       "0     200001.jpg\n",
       "1     200002.jpg\n",
       "2     200003.jpg\n",
       "3     200004.jpg\n",
       "4     200005.jpg\n",
       "...          ...\n",
       "3464  203465.jpg\n",
       "3465  203466.jpg\n",
       "3466  203467.jpg\n",
       "3467  203468.jpg\n",
       "3468  203469.jpg\n",
       "\n",
       "[3469 rows x 1 columns]"
      ]
     },
     "execution_count": 13,
     "metadata": {},
     "output_type": "execute_result"
    }
   ],
   "source": [
    "sub=sub.drop(columns='label',axis=1)\n",
    "sub"
   ]
  },
  {
   "cell_type": "code",
   "execution_count": 14,
   "id": "d65e7132",
   "metadata": {
    "execution": {
     "iopub.execute_input": "2022-08-07T07:49:28.701378Z",
     "iopub.status.busy": "2022-08-07T07:49:28.700637Z",
     "iopub.status.idle": "2022-08-07T07:49:28.714228Z",
     "shell.execute_reply": "2022-08-07T07:49:28.712800Z"
    },
    "papermill": {
     "duration": 0.482917,
     "end_time": "2022-08-07T07:49:28.716884",
     "exception": false,
     "start_time": "2022-08-07T07:49:28.233967",
     "status": "completed"
    },
    "tags": []
   },
   "outputs": [
    {
     "data": {
      "text/html": [
       "<div>\n",
       "<style scoped>\n",
       "    .dataframe tbody tr th:only-of-type {\n",
       "        vertical-align: middle;\n",
       "    }\n",
       "\n",
       "    .dataframe tbody tr th {\n",
       "        vertical-align: top;\n",
       "    }\n",
       "\n",
       "    .dataframe thead th {\n",
       "        text-align: right;\n",
       "    }\n",
       "</style>\n",
       "<table border=\"1\" class=\"dataframe\">\n",
       "  <thead>\n",
       "    <tr style=\"text-align: right;\">\n",
       "      <th></th>\n",
       "      <th>image_id</th>\n",
       "    </tr>\n",
       "  </thead>\n",
       "  <tbody>\n",
       "    <tr>\n",
       "      <th>0</th>\n",
       "      <td>200001.jpg</td>\n",
       "    </tr>\n",
       "    <tr>\n",
       "      <th>1</th>\n",
       "      <td>200002.jpg</td>\n",
       "    </tr>\n",
       "    <tr>\n",
       "      <th>2</th>\n",
       "      <td>200003.jpg</td>\n",
       "    </tr>\n",
       "    <tr>\n",
       "      <th>3</th>\n",
       "      <td>200004.jpg</td>\n",
       "    </tr>\n",
       "    <tr>\n",
       "      <th>4</th>\n",
       "      <td>200005.jpg</td>\n",
       "    </tr>\n",
       "    <tr>\n",
       "      <th>...</th>\n",
       "      <td>...</td>\n",
       "    </tr>\n",
       "    <tr>\n",
       "      <th>3464</th>\n",
       "      <td>203465.jpg</td>\n",
       "    </tr>\n",
       "    <tr>\n",
       "      <th>3465</th>\n",
       "      <td>203466.jpg</td>\n",
       "    </tr>\n",
       "    <tr>\n",
       "      <th>3466</th>\n",
       "      <td>203467.jpg</td>\n",
       "    </tr>\n",
       "    <tr>\n",
       "      <th>3467</th>\n",
       "      <td>203468.jpg</td>\n",
       "    </tr>\n",
       "    <tr>\n",
       "      <th>3468</th>\n",
       "      <td>203469.jpg</td>\n",
       "    </tr>\n",
       "  </tbody>\n",
       "</table>\n",
       "<p>3469 rows × 1 columns</p>\n",
       "</div>"
      ],
      "text/plain": [
       "        image_id\n",
       "0     200001.jpg\n",
       "1     200002.jpg\n",
       "2     200003.jpg\n",
       "3     200004.jpg\n",
       "4     200005.jpg\n",
       "...          ...\n",
       "3464  203465.jpg\n",
       "3465  203466.jpg\n",
       "3466  203467.jpg\n",
       "3467  203468.jpg\n",
       "3468  203469.jpg\n",
       "\n",
       "[3469 rows x 1 columns]"
      ]
     },
     "execution_count": 14,
     "metadata": {},
     "output_type": "execute_result"
    }
   ],
   "source": [
    "sub"
   ]
  },
  {
   "cell_type": "code",
   "execution_count": 15,
   "id": "092cbc53",
   "metadata": {
    "execution": {
     "iopub.execute_input": "2022-08-07T07:49:29.519232Z",
     "iopub.status.busy": "2022-08-07T07:49:29.518550Z",
     "iopub.status.idle": "2022-08-07T07:49:29.529687Z",
     "shell.execute_reply": "2022-08-07T07:49:29.528455Z"
    },
    "papermill": {
     "duration": 0.41722,
     "end_time": "2022-08-07T07:49:29.532617",
     "exception": false,
     "start_time": "2022-08-07T07:49:29.115397",
     "status": "completed"
    },
    "tags": []
   },
   "outputs": [],
   "source": [
    "submission=pd.DataFrame({'image_id':sub['image_id'],'label':predictions})"
   ]
  },
  {
   "cell_type": "code",
   "execution_count": 16,
   "id": "a1f54356",
   "metadata": {
    "execution": {
     "iopub.execute_input": "2022-08-07T07:49:30.330365Z",
     "iopub.status.busy": "2022-08-07T07:49:30.329868Z",
     "iopub.status.idle": "2022-08-07T07:49:30.343676Z",
     "shell.execute_reply": "2022-08-07T07:49:30.342459Z"
    },
    "papermill": {
     "duration": 0.41692,
     "end_time": "2022-08-07T07:49:30.346910",
     "exception": false,
     "start_time": "2022-08-07T07:49:29.929990",
     "status": "completed"
    },
    "tags": []
   },
   "outputs": [],
   "source": [
    "submission.to_csv('paddy_docto2.csv',index=None)"
   ]
  }
 ],
 "metadata": {
  "kernelspec": {
   "display_name": "Python 3",
   "language": "python",
   "name": "python3"
  },
  "language_info": {
   "codemirror_mode": {
    "name": "ipython",
    "version": 3
   },
   "file_extension": ".py",
   "mimetype": "text/x-python",
   "name": "python",
   "nbconvert_exporter": "python",
   "pygments_lexer": "ipython3",
   "version": "3.7.12"
  },
  "papermill": {
   "default_parameters": {},
   "duration": 4494.779194,
   "end_time": "2022-08-07T07:49:34.651452",
   "environment_variables": {},
   "exception": null,
   "input_path": "__notebook__.ipynb",
   "output_path": "__notebook__.ipynb",
   "parameters": {},
   "start_time": "2022-08-07T06:34:39.872258",
   "version": "2.3.4"
  }
 },
 "nbformat": 4,
 "nbformat_minor": 5
}
